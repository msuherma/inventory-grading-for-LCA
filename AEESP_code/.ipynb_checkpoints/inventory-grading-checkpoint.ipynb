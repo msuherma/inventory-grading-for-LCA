{
 "cells": [
  {
   "cell_type": "code",
   "execution_count": 1,
   "metadata": {},
   "outputs": [],
   "source": [
    "import pandas as pd\n",
    "import numpy as np"
   ]
  },
  {
   "cell_type": "code",
   "execution_count": 2,
   "metadata": {},
   "outputs": [],
   "source": [
    "# Naming the matrix\n",
    "\n",
    "techMat = 'data/tech_matrix.csv'# Technology Matrix\n",
    "intervMat = 'data/intervMat.csv'#Intervention Matrix\n",
    "fdemand1 = 'data/fdemand1.csv'#Final Demand with 1 MJ of corn ethanol"
   ]
  },
  {
   "cell_type": "code",
   "execution_count": 3,
   "metadata": {},
   "outputs": [],
   "source": [
    "def csvToMatrix(fileName):\n",
    "    fileName = pd.read_csv(fileName)\n",
    "    fileName = pd.DataFrame(fileName).fillna(0)\n",
    "    fileName = fileName.apply(pd.to_numeric, errors='coerce').dropna(axis='columns').to_numpy(dtype=float,na_value=0)\n",
    "    return fileName"
   ]
  },
  {
   "cell_type": "code",
   "execution_count": 4,
   "metadata": {},
   "outputs": [],
   "source": [
    "techMat=csvToMatrix(techMat)\n",
    "intervMat=csvToMatrix(intervMat)\n",
    "fdemand1 = pd.read_csv(fdemand1).values #turn fdemand table in csv format to an array"
   ]
  },
  {
   "cell_type": "code",
   "execution_count": 5,
   "metadata": {},
   "outputs": [
    {
     "data": {
      "text/plain": [
       "(21, 21)"
      ]
     },
     "execution_count": 5,
     "metadata": {},
     "output_type": "execute_result"
    }
   ],
   "source": [
    "techMat.shape"
   ]
  },
  {
   "cell_type": "code",
   "execution_count": 6,
   "metadata": {},
   "outputs": [],
   "source": [
    "def calc_emission(technology_matrix, final_demand, intervention_matrix):\n",
    "    '''\n",
    "    calc_emission\n",
    "    is used to calculate the emission from matrix.\n",
    "    It takes three arguments, namely:\n",
    "                        1) technology_matrix;\n",
    "                        2) final_demand;\n",
    "                        3) intervention_matrix\n",
    "    '''\n",
    "    technology_matrix_inv = np.linalg.inv(technology_matrix)\n",
    "    scale_matrix = np.dot(technology_matrix_inv, final_demand)\n",
    "    result_matrix = np.dot(intervention_matrix, scale_matrix)\n",
    "    np.savetxt(\"data/result.csv\", result_matrix, delimiter=\",\")\n",
    "    print (result_matrix)"
   ]
  },
  {
   "cell_type": "code",
   "execution_count": 7,
   "metadata": {},
   "outputs": [
    {
     "name": "stdout",
     "output_type": "stream",
     "text": [
      "[[3.65450125e-02]\n",
      " [3.01275041e-04]\n",
      " [8.03321201e-06]\n",
      " [0.00000000e+00]]\n"
     ]
    }
   ],
   "source": [
    "calc_emission(techMat, fdemand1, intervMat)"
   ]
  },
  {
   "cell_type": "code",
   "execution_count": 8,
   "metadata": {},
   "outputs": [],
   "source": [
    "# Calculating the emission of each contributor and total here\n",
    "result = pd.read_csv('data/result.csv', names=['kg'])# Technology Matrix\n",
    "emission = result['kg']\n",
    "CO2=emission[0] # 1st Row is CO2\n",
    "CH4=emission[1] # 2nd Row is CH4\n",
    "N2O=emission[2] # 3rd Row is N2O\n",
    "CO2eq_CH4 = CH4 * 28  # CO2-eq from CH4, CH4*28\n",
    "CO2eq_N2O = N2O * 265 # CO2-eq from N2O, CH4*265\n",
    "CO2_tot_kggal = CO2 + CO2eq_CH4 +CO2eq_N2O\n",
    "MJ_per_gal = 89 # 1 gallon equals 89 MJ of ethanol, \n",
    "                    # https://www.ocean.washington.edu/courses/envir215/energynumbers.pdf\n",
    "kg_to_g = 1000 # converting kg to g, the original emission is in kg\n",
    "CO2_tot_gPerMJ = CO2_tot_kggal * kg_to_g / MJ_per_gal"
   ]
  },
  {
   "cell_type": "code",
   "execution_count": 9,
   "metadata": {},
   "outputs": [
    {
     "name": "stdout",
     "output_type": "stream",
     "text": [
      "The tabulated results are as following:\n",
      "---------------------------------------\n",
      "             kg  kg CO2e/gal  g CO2e/MJ\n",
      "CO2    0.036545     0.036545   0.410618\n",
      "CH4    0.000301     0.008436   0.094783\n",
      "N2O    0.000008     0.002129   0.023919\n",
      "TOTAL  0.036854     0.047110   0.529320\n",
      "---------------------------------------\n",
      "The total CO2 equivalent obtained from this calculation is 0.0471095 kg CO2e/gallon ethanol.\n",
      "With all necessary unit conversions, the CO2 equivalent amount is 0.52932 g CO2e/MJ ethanol.\n"
     ]
    }
   ],
   "source": [
    "# Making tabulated result ---> save to csv\n",
    "CO2_CO2e_gPerMJ = CO2 * kg_to_g / MJ_per_gal\n",
    "CH4_CO2e_gPerMJ = CO2eq_CH4 * kg_to_g / MJ_per_gal\n",
    "N2O_CO2e_gPerMJ = CO2eq_N2O * kg_to_g / MJ_per_gal\n",
    "\n",
    "# Total/Accumulative\n",
    "kg_total = CO2 + CH4 + N2O\n",
    "CO2eq_kgPerGal_total = CO2 + CO2eq_CH4 + CO2eq_N2O\n",
    "CO2e_gPerMJ_total = CO2_CO2e_gPerMJ + CH4_CO2e_gPerMJ + N2O_CO2e_gPerMJ\n",
    "\n",
    "headerList = [ \"kg\", \"kg CO2e/gal\", \"g CO2e/MJ\"]\n",
    "emissionList = [\"CO2\", \"CH4\", \"N2O\", \"TOTAL\"]\n",
    "data = np.array([[CO2,CO2, CO2_CO2e_gPerMJ],\n",
    "                [CH4,CO2eq_CH4, CH4_CO2e_gPerMJ],\n",
    "                [N2O,CO2eq_N2O, N2O_CO2e_gPerMJ],\n",
    "                [kg_total, CO2eq_kgPerGal_total, CO2e_gPerMJ_total]])\n",
    "\n",
    "data_result = pd.DataFrame(data, emissionList, headerList )\n",
    "np.savetxt(\"data/data_result.csv\", data_result, delimiter=\",\")\n",
    "print('The tabulated results are as following:')\n",
    "print('---------------------------------------')\n",
    "print(data_result)\n",
    "print('---------------------------------------')\n",
    "print (f'The total CO2 equivalent obtained from this calculation is {CO2_tot_kggal:.6} kg CO2e/gallon ethanol.')\n",
    "print (f'With all necessary unit conversions, the CO2 equivalent amount is {CO2_tot_gPerMJ:.6} g CO2e/MJ ethanol.')"
   ]
  },
  {
   "cell_type": "code",
   "execution_count": 16,
   "metadata": {},
   "outputs": [],
   "source": [
    "#Based on Prof. Zhao's announcement, per MJ of ethanol\n",
    "CO2_ref = 2.9/89 #kg;\n",
    "CH4_ref = 0.024/89 #kg;\n",
    "N2O_ref = 0.0011/89 #kg;"
   ]
  },
  {
   "cell_type": "code",
   "execution_count": 17,
   "metadata": {},
   "outputs": [],
   "source": [
    "# Result Error comparison\n",
    "CO2_error = (CO2_ref-CO2)/CO2_ref*100\n",
    "CH4_error = (CH4_ref-CH4)/CH4_ref*100\n",
    "N2O_error = (N2O_ref-N2O)/N2O_ref*100"
   ]
  },
  {
   "cell_type": "code",
   "execution_count": 18,
   "metadata": {},
   "outputs": [
    {
     "name": "stdout",
     "output_type": "stream",
     "text": [
      "The Results Error are as following:\n",
      "---------------------------------------\n",
      "     Reference   Results    Error %\n",
      "CO2   0.032584  0.036545 -12.155383\n",
      "CH4   0.000270  0.000301 -11.722828\n",
      "N2O   0.000012  0.000008   0.000012\n"
     ]
    }
   ],
   "source": [
    "headerList = [ \"Reference\", \"Results\", \"Error %\"]\n",
    "emissionList = [\"CO2\", \"CH4\", \"N2O\"]\n",
    "data = np.array([[CO2_ref, CO2, CO2_error],\n",
    "                [CH4_ref, CH4, CH4_error],\n",
    "                [N2O_ref, N2O, N2O_ref]])\n",
    "\n",
    "error_result = pd.DataFrame(data, emissionList, headerList )\n",
    "np.savetxt(\"data/error_result.csv\", error_result, delimiter=\",\")\n",
    "print('The Results Error are as following:')\n",
    "print('---------------------------------------')\n",
    "print(error_result)\n"
   ]
  },
  {
   "cell_type": "code",
   "execution_count": 21,
   "metadata": {},
   "outputs": [],
   "source": [
    "# Result Error comparison version 2\n",
    "# If the result is bigger than the reference\n",
    "\n",
    "CO2_error2 = (CO2-CO2_ref)/CO2*100\n",
    "CH4_error2 = (CH4-CH4_ref)/CH4*100\n",
    "N2O_error2 = (N2O-N2O_ref)/N2O*100"
   ]
  },
  {
   "cell_type": "code",
   "execution_count": 22,
   "metadata": {},
   "outputs": [
    {
     "name": "stdout",
     "output_type": "stream",
     "text": [
      "The Results Error are as following:\n",
      "---------------------------------------\n",
      "     Reference   Results    Error %\n",
      "CO2   0.032584  0.036545  10.837985\n",
      "CH4   0.000270  0.000301  10.492778\n",
      "N2O   0.000012  0.000008 -53.855650\n"
     ]
    }
   ],
   "source": [
    "headerList = [ \"Reference\", \"Results\", \"Error %\"]\n",
    "emissionList = [\"CO2\", \"CH4\", \"N2O\"]\n",
    "data = np.array([[CO2_ref, CO2, CO2_error2],\n",
    "                [CH4_ref, CH4, CH4_error2],\n",
    "                [N2O_ref, N2O, N2O_error2]])\n",
    "\n",
    "error_result2 = pd.DataFrame(data, emissionList, headerList )\n",
    "np.savetxt(\"data/error_result2.csv\", error_result2, delimiter=\",\")\n",
    "print('The Results Error are as following:')\n",
    "print('---------------------------------------')\n",
    "print(error_result2)\n",
    "\n"
   ]
  },
  {
   "cell_type": "code",
   "execution_count": null,
   "metadata": {},
   "outputs": [],
   "source": []
  }
 ],
 "metadata": {
  "interpreter": {
   "hash": "98aef01920540289ae61254eee7407ded16f86c9270cd45d119edf811dd6afaf"
  },
  "kernelspec": {
   "display_name": "Python 3.9.7 64-bit ('PhD': conda)",
   "name": "python3"
  },
  "language_info": {
   "codemirror_mode": {
    "name": "ipython",
    "version": 3
   },
   "file_extension": ".py",
   "mimetype": "text/x-python",
   "name": "python",
   "nbconvert_exporter": "python",
   "pygments_lexer": "ipython3",
   "version": "3.9.7"
  }
 },
 "nbformat": 4,
 "nbformat_minor": 5
}
